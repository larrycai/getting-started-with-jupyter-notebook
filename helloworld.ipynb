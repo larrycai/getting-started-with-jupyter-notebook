{
 "cells": [
  {
   "cell_type": "code",
   "execution_count": 2,
   "id": "sacred-memorial",
   "metadata": {},
   "outputs": [
    {
     "name": "stdout",
     "output_type": "stream",
     "text": [
      "Hello world\n"
     ]
    }
   ],
   "source": [
    "def hello_world():\n",
    "    print('Hello world')\n",
    "hello_world()"
   ]
  },
  {
   "cell_type": "markdown",
   "id": "systematic-blade",
   "metadata": {},
   "source": [
    "# Introduction\n",
    "\n",
    "this is the solution for manning liveproject [Getting Started with Jupyter notebook](https://liveproject.manning.com/module/280_2_1/getting-started-with-jupyter-notebook) - \"setting environment\"\n",
    "\n",
    "It aims to setup the env to make sure notebook is working"
   ]
  },
  {
   "cell_type": "code",
   "execution_count": null,
   "id": "annoying-democracy",
   "metadata": {},
   "outputs": [],
   "source": []
  }
 ],
 "metadata": {
  "kernelspec": {
   "display_name": "Python 3",
   "language": "python",
   "name": "python3"
  },
  "language_info": {
   "codemirror_mode": {
    "name": "ipython",
    "version": 3
   },
   "file_extension": ".py",
   "mimetype": "text/x-python",
   "name": "python",
   "nbconvert_exporter": "python",
   "pygments_lexer": "ipython3",
   "version": "3.8.8"
  }
 },
 "nbformat": 4,
 "nbformat_minor": 5
}
